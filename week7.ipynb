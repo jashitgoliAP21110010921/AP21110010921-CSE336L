{
  "nbformat": 4,
  "nbformat_minor": 0,
  "metadata": {
    "colab": {
      "provenance": []
    },
    "kernelspec": {
      "name": "python3",
      "display_name": "Python 3"
    },
    "language_info": {
      "name": "python"
    }
  },
  "cells": [
    {
      "cell_type": "code",
      "execution_count": 2,
      "metadata": {
        "id": "g3rOA3SPSaMQ"
      },
      "outputs": [],
      "source": [
        "import numpy as np\n",
        "import pandas as pd"
      ]
    },
    {
      "cell_type": "code",
      "source": [
        "array=[1,2,3]"
      ],
      "metadata": {
        "id": "F3MjST0WTeaH"
      },
      "execution_count": null,
      "outputs": []
    },
    {
      "cell_type": "code",
      "source": [
        "vector = np.array(array)"
      ],
      "metadata": {
        "id": "oa2ID6lmUlrq"
      },
      "execution_count": null,
      "outputs": []
    },
    {
      "cell_type": "code",
      "source": [
        "print(\" Vector   : \" + str(vector))"
      ],
      "metadata": {
        "colab": {
          "base_uri": "https://localhost:8080/"
        },
        "id": "SdqMrhZcUvSF",
        "outputId": "3ccc232d-9561-498a-fc58-85bbc100e39c"
      },
      "execution_count": null,
      "outputs": [
        {
          "output_type": "stream",
          "name": "stdout",
          "text": [
            " Vector   : [1 2 3]\n"
          ]
        }
      ]
    },
    {
      "cell_type": "code",
      "source": [
        "x=np.mean(vector)\n",
        "x"
      ],
      "metadata": {
        "colab": {
          "base_uri": "https://localhost:8080/"
        },
        "id": "P7pYD_ivVTci",
        "outputId": "581ec1fc-09c5-4049-8e0f-b33f1fefb577"
      },
      "execution_count": null,
      "outputs": [
        {
          "output_type": "execute_result",
          "data": {
            "text/plain": [
              "2.0"
            ]
          },
          "metadata": {},
          "execution_count": 9
        }
      ]
    },
    {
      "cell_type": "code",
      "source": [
        "z=np.subtract(array,x)\n",
        "z"
      ],
      "metadata": {
        "colab": {
          "base_uri": "https://localhost:8080/"
        },
        "id": "HAZQGun8Vg0b",
        "outputId": "094a38dd-cea6-4e2c-d7a0-a726c0c1031a"
      },
      "execution_count": null,
      "outputs": [
        {
          "output_type": "execute_result",
          "data": {
            "text/plain": [
              "array([-1.,  0.,  1.])"
            ]
          },
          "metadata": {},
          "execution_count": 11
        }
      ]
    },
    {
      "cell_type": "code",
      "source": [
        "j=z**2\n",
        "j"
      ],
      "metadata": {
        "colab": {
          "base_uri": "https://localhost:8080/"
        },
        "id": "Qq7aLoFpViTN",
        "outputId": "b69f25a5-a8ab-41a8-c1e2-676a1163ee28"
      },
      "execution_count": null,
      "outputs": [
        {
          "output_type": "execute_result",
          "data": {
            "text/plain": [
              "array([1., 0., 1.])"
            ]
          },
          "metadata": {},
          "execution_count": 12
        }
      ]
    },
    {
      "cell_type": "code",
      "source": [
        "k=np.sum(j)\n",
        "k"
      ],
      "metadata": {
        "colab": {
          "base_uri": "https://localhost:8080/"
        },
        "id": "jQC3tFGzWgaH",
        "outputId": "3e2c1432-1cbe-4e0a-f591-1d83e7633d01"
      },
      "execution_count": null,
      "outputs": [
        {
          "output_type": "execute_result",
          "data": {
            "text/plain": [
              "2.0"
            ]
          },
          "metadata": {},
          "execution_count": 14
        }
      ]
    },
    {
      "cell_type": "code",
      "source": [
        "samplevariance = k/(3-1)\n",
        "print(\"samplevariance = \" + str(samplevariance))\n"
      ],
      "metadata": {
        "colab": {
          "base_uri": "https://localhost:8080/"
        },
        "id": "W2e47QJnWqV9",
        "outputId": "885264a4-c964-49c2-d61d-9aa4ce24d36d"
      },
      "execution_count": null,
      "outputs": [
        {
          "output_type": "stream",
          "name": "stdout",
          "text": [
            "samplevariance = 1.0\n"
          ]
        }
      ]
    },
    {
      "cell_type": "code",
      "source": [
        "populationvariance = k/3\n",
        "print(\"populationvariance = \" + str(populationvariance))\n"
      ],
      "metadata": {
        "colab": {
          "base_uri": "https://localhost:8080/"
        },
        "id": "hILFXiAzXW-X",
        "outputId": "6632fc51-89a0-4f15-c53f-ce50a733f5b2"
      },
      "execution_count": null,
      "outputs": [
        {
          "output_type": "stream",
          "name": "stdout",
          "text": [
            "populationvariance = 0.6666666666666666\n"
          ]
        }
      ]
    },
    {
      "cell_type": "code",
      "source": [
        "x=[3,2,1]\n",
        "y=[4,5,6]\n"
      ],
      "metadata": {
        "id": "6jsuA0WmZ147"
      },
      "execution_count": null,
      "outputs": []
    },
    {
      "cell_type": "code",
      "source": [
        "vectorx = np.array(x)"
      ],
      "metadata": {
        "id": "oA-6wbU3acaa"
      },
      "execution_count": null,
      "outputs": []
    },
    {
      "cell_type": "code",
      "source": [
        "vectory = np.array(y)"
      ],
      "metadata": {
        "id": "AVlJLIEpbDaI"
      },
      "execution_count": null,
      "outputs": []
    },
    {
      "cell_type": "code",
      "source": [
        "print(\" Vector x  : \" + str(vectorx))\n",
        "print(\" Vector y : \" + str(vectory))"
      ],
      "metadata": {
        "colab": {
          "base_uri": "https://localhost:8080/"
        },
        "id": "-9RCK6y3bFOZ",
        "outputId": "b46543b0-e6d6-43ca-e0fd-e90d83934028"
      },
      "execution_count": null,
      "outputs": [
        {
          "output_type": "stream",
          "name": "stdout",
          "text": [
            " Vector x  : [3 2 1]\n",
            " Vector y : [4 5 6]\n"
          ]
        }
      ]
    },
    {
      "cell_type": "code",
      "source": [
        "x=np.mean(vectorx)\n",
        "x\n"
      ],
      "metadata": {
        "colab": {
          "base_uri": "https://localhost:8080/"
        },
        "id": "aagXRJSIbTLN",
        "outputId": "6fcdc187-9f96-4bc8-92e7-9303e36b06cd"
      },
      "execution_count": null,
      "outputs": [
        {
          "output_type": "execute_result",
          "data": {
            "text/plain": [
              "2.0"
            ]
          },
          "metadata": {},
          "execution_count": 37
        }
      ]
    },
    {
      "cell_type": "code",
      "source": [
        "y=np.mean(vectory)\n",
        "y"
      ],
      "metadata": {
        "colab": {
          "base_uri": "https://localhost:8080/"
        },
        "id": "pQR9DC4McPby",
        "outputId": "5f8d0378-b335-450a-90ef-bea86a201842"
      },
      "execution_count": null,
      "outputs": [
        {
          "output_type": "execute_result",
          "data": {
            "text/plain": [
              "5.0"
            ]
          },
          "metadata": {},
          "execution_count": 38
        }
      ]
    },
    {
      "cell_type": "code",
      "source": [
        "x=np.subtract(vectorx,x)\n",
        "x"
      ],
      "metadata": {
        "colab": {
          "base_uri": "https://localhost:8080/"
        },
        "id": "r6YLApS3c8Z4",
        "outputId": "e7988e91-00da-4700-cc64-c2e5cb1a26c9"
      },
      "execution_count": null,
      "outputs": [
        {
          "output_type": "execute_result",
          "data": {
            "text/plain": [
              "array([ 1.,  0., -1.])"
            ]
          },
          "metadata": {},
          "execution_count": 39
        }
      ]
    },
    {
      "cell_type": "code",
      "source": [
        "y=np.subtract(vectory,y)\n",
        "y"
      ],
      "metadata": {
        "colab": {
          "base_uri": "https://localhost:8080/"
        },
        "id": "R4oVGolFeQjo",
        "outputId": "041268fb-6fb9-4e15-f1c1-ce93a638f745"
      },
      "execution_count": null,
      "outputs": [
        {
          "output_type": "execute_result",
          "data": {
            "text/plain": [
              "array([-1.,  0.,  1.])"
            ]
          },
          "metadata": {},
          "execution_count": 40
        }
      ]
    },
    {
      "cell_type": "code",
      "source": [
        "g=x*y\n",
        "g"
      ],
      "metadata": {
        "colab": {
          "base_uri": "https://localhost:8080/"
        },
        "id": "rMkdRc4-eYy3",
        "outputId": "b7b21213-2197-429a-f446-fd2e43e36304"
      },
      "execution_count": null,
      "outputs": [
        {
          "output_type": "execute_result",
          "data": {
            "text/plain": [
              "array([-1.,  0., -1.])"
            ]
          },
          "metadata": {},
          "execution_count": 41
        }
      ]
    },
    {
      "cell_type": "code",
      "source": [
        "d=sum(g)\n",
        "d"
      ],
      "metadata": {
        "colab": {
          "base_uri": "https://localhost:8080/"
        },
        "id": "R3-7zO9Peg3f",
        "outputId": "625ea2b4-f1b0-4ac9-db01-daa9a3ac6377"
      },
      "execution_count": null,
      "outputs": [
        {
          "output_type": "execute_result",
          "data": {
            "text/plain": [
              "-2.0"
            ]
          },
          "metadata": {},
          "execution_count": 42
        }
      ]
    },
    {
      "cell_type": "code",
      "source": [
        "covaraince=d/(3-1)\n",
        "print(\"covariance of x and y = \" + str(covaraince))"
      ],
      "metadata": {
        "colab": {
          "base_uri": "https://localhost:8080/"
        },
        "id": "dSvQfUwGend1",
        "outputId": "06ac50ea-452d-427c-9b23-a4233233d4bc"
      },
      "execution_count": null,
      "outputs": [
        {
          "output_type": "stream",
          "name": "stdout",
          "text": [
            "covariance of x and y = -1.0\n"
          ]
        }
      ]
    },
    {
      "cell_type": "code",
      "source": [
        "varx=np.var(x)\n",
        "varx\n"
      ],
      "metadata": {
        "colab": {
          "base_uri": "https://localhost:8080/"
        },
        "id": "LYIyGHYde95s",
        "outputId": "6c118090-503e-4106-d324-3696d9d63977"
      },
      "execution_count": null,
      "outputs": [
        {
          "output_type": "execute_result",
          "data": {
            "text/plain": [
              "0.6666666666666666"
            ]
          },
          "metadata": {},
          "execution_count": 47
        }
      ]
    },
    {
      "cell_type": "code",
      "source": [
        "vary=np.var(y)\n",
        "vary"
      ],
      "metadata": {
        "colab": {
          "base_uri": "https://localhost:8080/"
        },
        "id": "Ae4RTGd6ifLT",
        "outputId": "4d5b2139-7d76-4624-8347-a3c6051ca8a0"
      },
      "execution_count": null,
      "outputs": [
        {
          "output_type": "execute_result",
          "data": {
            "text/plain": [
              "0.6666666666666666"
            ]
          },
          "metadata": {},
          "execution_count": 48
        }
      ]
    },
    {
      "cell_type": "code",
      "source": [
        "h=(varx*vary)**(1/2)\n",
        "h"
      ],
      "metadata": {
        "colab": {
          "base_uri": "https://localhost:8080/"
        },
        "id": "sFzIyzQiinF0",
        "outputId": "1db6ebc2-3ede-4cda-b75f-98e141549b45"
      },
      "execution_count": null,
      "outputs": [
        {
          "output_type": "execute_result",
          "data": {
            "text/plain": [
              "0.6666666666666666"
            ]
          },
          "metadata": {},
          "execution_count": 50
        }
      ]
    },
    {
      "cell_type": "code",
      "source": [
        "correlation=covaraince/h\n",
        "print(\"correlation of x and y = \" + str(correlation))\n"
      ],
      "metadata": {
        "colab": {
          "base_uri": "https://localhost:8080/"
        },
        "id": "tFR8T9rbkg7E",
        "outputId": "1eec624c-3d2e-4b4d-befd-802fd6537b6d"
      },
      "execution_count": null,
      "outputs": [
        {
          "output_type": "stream",
          "name": "stdout",
          "text": [
            "correlation of x and y = -1.5\n"
          ]
        }
      ]
    },
    {
      "cell_type": "code",
      "source": [
        "j=[[4,5,6],[1,2,3]]\n",
        "j=np.array(j)"
      ],
      "metadata": {
        "id": "7SHKJxZ5mf8-"
      },
      "execution_count": 3,
      "outputs": []
    },
    {
      "cell_type": "code",
      "source": [
        "covmatrix=np.cov(j)\n",
        "print(\"covariance matrix:\\n\",covmatrix,\"\\n\")"
      ],
      "metadata": {
        "colab": {
          "base_uri": "https://localhost:8080/"
        },
        "id": "fdaxfzyjoWOV",
        "outputId": "9d1c2322-51bc-42b6-8714-aaa37b4e5cc4"
      },
      "execution_count": 4,
      "outputs": [
        {
          "output_type": "stream",
          "name": "stdout",
          "text": [
            "covariance matrix:\n",
            " [[1. 1.]\n",
            " [1. 1.]] \n",
            "\n"
          ]
        }
      ]
    },
    {
      "cell_type": "code",
      "source": [
        "corelationmatrix = np.corrcoef(j)\n",
        "print(\"correlation matrix:\\n\",corelationmatrix)"
      ],
      "metadata": {
        "colab": {
          "base_uri": "https://localhost:8080/"
        },
        "id": "yRpSHfbqotJl",
        "outputId": "76a6464d-a46c-4adf-d372-aa9ef78c97a5"
      },
      "execution_count": 6,
      "outputs": [
        {
          "output_type": "stream",
          "name": "stdout",
          "text": [
            "correlation matrix:\n",
            " [[1. 1.]\n",
            " [1. 1.]]\n"
          ]
        }
      ]
    },
    {
      "cell_type": "code",
      "source": [],
      "metadata": {
        "id": "W26e-3ywo3mF"
      },
      "execution_count": null,
      "outputs": []
    }
  ]
}